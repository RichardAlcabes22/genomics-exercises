{
 "cells": [
  {
   "cell_type": "markdown",
   "id": "f6622780",
   "metadata": {},
   "source": [
    "# Python for Genomics \n",
    "### by Guilherme Matos Passarini, phD"
   ]
  },
  {
   "cell_type": "markdown",
   "id": "8e661b1a",
   "metadata": {},
   "source": [
    "## Exercise 1: Calculate Recombination Frequency and Estimate Gene Distances\n",
    "### Write a program that accepts inputs and estimated gene distances based on the frequency of the Recombinant and Non-Recombinant Genotypes."
   ]
  },
  {
   "cell_type": "code",
   "execution_count": 1,
   "id": "357e7ce4",
   "metadata": {},
   "outputs": [
    {
     "name": "stdout",
     "output_type": "stream",
     "text": [
      "Please enter total count of observed AB, non-recombinants: 121\n",
      "Please enter total count of observed ab, non-recombinants: 200\n",
      "Please enter total count of observed aB, recombinants: 23\n",
      "Please enter total count of observed Ab, recombinants: 21\n"
     ]
    }
   ],
   "source": [
    "AB = int(input('Please enter total count of observed AB, non-recombinants: '))\n",
    "ab = int(input('Please enter total count of observed ab, non-recombinants: '))\n",
    "aB = int(input('Please enter total count of observed aB, recombinants: '))\n",
    "Ab = int(input('Please enter total count of observed Ab, recombinants: '))"
   ]
  },
  {
   "cell_type": "code",
   "execution_count": 2,
   "id": "59fe52f9",
   "metadata": {},
   "outputs": [
    {
     "name": "stdout",
     "output_type": "stream",
     "text": [
      "Estimated Recombinant Frequency: 0.1205\n"
     ]
    }
   ],
   "source": [
    "freq = (Ab + aB) / (AB + ab + Ab + aB)\n",
    "print(f'Estimated Recombinant Frequency: {freq:.4f}')"
   ]
  },
  {
   "cell_type": "code",
   "execution_count": 3,
   "id": "0dd57023",
   "metadata": {},
   "outputs": [
    {
     "name": "stdout",
     "output_type": "stream",
     "text": [
      "Estimated Gene Distances: 8.30 bases / kB / MB\n"
     ]
    }
   ],
   "source": [
    "distance = (AB + ab + Ab + aB) / (Ab + aB)\n",
    "print(f'Estimated Gene Distances: {distance:.2f} bases / kB / MB')"
   ]
  },
  {
   "cell_type": "markdown",
   "id": "d66d65ff",
   "metadata": {},
   "source": [
    "## Exercise 2: Calculate Allele Frequencies\n",
    "### Write a program that accepts Genotype Counts and returns the Frequencies of the two Alleles."
   ]
  },
  {
   "cell_type": "code",
   "execution_count": 4,
   "id": "d006fc3a",
   "metadata": {},
   "outputs": [
    {
     "name": "stdout",
     "output_type": "stream",
     "text": [
      "Please enter total count of observed pp genotypes: 13\n",
      "Please enter total count of observed pq genotypes: 80\n",
      "Please enter total count of observed qq genotypes: 30\n"
     ]
    }
   ],
   "source": [
    "pp = int(input('Please enter total count of observed pp genotypes: '))\n",
    "pq = int(input('Please enter total count of observed pq genotypes: '))\n",
    "qq = int(input('Please enter total count of observed qq genotypes: '))\n",
    "n = pp+pq+qq"
   ]
  },
  {
   "cell_type": "code",
   "execution_count": 5,
   "id": "b5c3e7f6",
   "metadata": {},
   "outputs": [
    {
     "name": "stdout",
     "output_type": "stream",
     "text": [
      "Total observed genotypes: 123\n"
     ]
    }
   ],
   "source": [
    "print(f'Total observed genotypes: {n}')"
   ]
  },
  {
   "cell_type": "code",
   "execution_count": 6,
   "id": "f199b324",
   "metadata": {},
   "outputs": [
    {
     "name": "stdout",
     "output_type": "stream",
     "text": [
      "Frequency of Allele P: 0.4309\n"
     ]
    }
   ],
   "source": [
    "p_freq = ((2*pp)+pq) / (2*n)\n",
    "print(f'Frequency of Allele P: {p_freq:.4f}')"
   ]
  },
  {
   "cell_type": "code",
   "execution_count": 7,
   "id": "873bf6ec",
   "metadata": {},
   "outputs": [
    {
     "name": "stdout",
     "output_type": "stream",
     "text": [
      "Frequency of Allele Q: 0.5691\n"
     ]
    }
   ],
   "source": [
    "q_freq = ((2*qq)+pq) / (2*n)\n",
    "print(f'Frequency of Allele Q: {q_freq:.4f}')"
   ]
  },
  {
   "cell_type": "code",
   "execution_count": 8,
   "id": "df8b1c24",
   "metadata": {},
   "outputs": [
    {
     "data": {
      "text/plain": [
       "1.0"
      ]
     },
     "execution_count": 8,
     "metadata": {},
     "output_type": "execute_result"
    }
   ],
   "source": [
    "p_freq + q_freq"
   ]
  },
  {
   "cell_type": "markdown",
   "id": "fdf003cd",
   "metadata": {},
   "source": [
    "## To summarize:"
   ]
  },
  {
   "cell_type": "code",
   "execution_count": 9,
   "id": "1e310f70",
   "metadata": {},
   "outputs": [
    {
     "name": "stdout",
     "output_type": "stream",
     "text": [
      "Frequency of Allele P: 0.4309\n",
      "Frequency of Allele Q: 0.5691\n",
      "Total: 1.0\n"
     ]
    }
   ],
   "source": [
    "print(f'Frequency of Allele P: {p_freq:.4f}')\n",
    "print(f'Frequency of Allele Q: {q_freq:.4f}')\n",
    "print(f'Total: {(p_freq + q_freq):.1f}')"
   ]
  },
  {
   "cell_type": "code",
   "execution_count": null,
   "id": "66b29612",
   "metadata": {},
   "outputs": [],
   "source": []
  }
 ],
 "metadata": {
  "kernelspec": {
   "display_name": "Python 3 (ipykernel)",
   "language": "python",
   "name": "python3"
  },
  "language_info": {
   "codemirror_mode": {
    "name": "ipython",
    "version": 3
   },
   "file_extension": ".py",
   "mimetype": "text/x-python",
   "name": "python",
   "nbconvert_exporter": "python",
   "pygments_lexer": "ipython3",
   "version": "3.9.13"
  }
 },
 "nbformat": 4,
 "nbformat_minor": 5
}
