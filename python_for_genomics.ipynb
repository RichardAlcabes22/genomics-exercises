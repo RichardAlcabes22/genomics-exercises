{
 "cells": [
  {
   "cell_type": "code",
   "execution_count": 1,
   "id": "6edf8886",
   "metadata": {},
   "outputs": [],
   "source": [
    "import re"
   ]
  },
  {
   "cell_type": "code",
   "execution_count": 2,
   "id": "082f3349",
   "metadata": {},
   "outputs": [
    {
     "data": {
      "application/javascript": [
       "IPython.notebook.set_autosave_interval(0)"
      ]
     },
     "metadata": {},
     "output_type": "display_data"
    },
    {
     "name": "stdout",
     "output_type": "stream",
     "text": [
      "Autosave disabled\n"
     ]
    }
   ],
   "source": [
    "%autosave 0"
   ]
  },
  {
   "cell_type": "markdown",
   "id": "cd792f89",
   "metadata": {},
   "source": [
    "# Python for Genomics \n",
    "### by Guilherme Matos Passarini, phD"
   ]
  },
  {
   "cell_type": "markdown",
   "id": "3639a1e6",
   "metadata": {},
   "source": [
    "## Exercise 1: Calculate Recombination Frequency and Estimate Gene Distances\n",
    "### Write a program that accepts inputs and estimated gene distances based on the frequency of the Recombinant and Non-Recombinant Genotypes."
   ]
  },
  {
   "cell_type": "code",
   "execution_count": 3,
   "id": "ecfe1098",
   "metadata": {},
   "outputs": [
    {
     "name": "stdout",
     "output_type": "stream",
     "text": [
      "Please enter total count of observed AB, non-recombinants: 121\n",
      "Please enter total count of observed ab, non-recombinants: 200\n",
      "Please enter total count of observed aB, recombinants: 23\n",
      "Please enter total count of observed Ab, recombinants: 21\n"
     ]
    }
   ],
   "source": [
    "AB = int(input('Please enter total count of observed AB, non-recombinants: '))\n",
    "ab = int(input('Please enter total count of observed ab, non-recombinants: '))\n",
    "aB = int(input('Please enter total count of observed aB, recombinants: '))\n",
    "Ab = int(input('Please enter total count of observed Ab, recombinants: '))"
   ]
  },
  {
   "cell_type": "code",
   "execution_count": 4,
   "id": "c87fc8b0",
   "metadata": {},
   "outputs": [
    {
     "name": "stdout",
     "output_type": "stream",
     "text": [
      "Estimated Recombinant Frequency: 0.1205\n"
     ]
    }
   ],
   "source": [
    "freq = (Ab + aB) / (AB + ab + Ab + aB)\n",
    "print(f'Estimated Recombinant Frequency: {freq:.4f}')"
   ]
  },
  {
   "cell_type": "code",
   "execution_count": 5,
   "id": "22a309de",
   "metadata": {},
   "outputs": [
    {
     "name": "stdout",
     "output_type": "stream",
     "text": [
      "Estimated Gene Distances: 8.30 bases / kB / MB\n"
     ]
    }
   ],
   "source": [
    "distance = (AB + ab + Ab + aB) / (Ab + aB)\n",
    "print(f'Estimated Gene Distances: {distance:.2f} bases / kB / MB')"
   ]
  },
  {
   "cell_type": "markdown",
   "id": "163973d1",
   "metadata": {},
   "source": [
    "## Exercise 2: Calculate Allele Frequencies\n",
    "### Write a program that accepts Genotype Counts and returns the Frequencies of the two Alleles."
   ]
  },
  {
   "cell_type": "code",
   "execution_count": 4,
   "id": "952a05d5",
   "metadata": {},
   "outputs": [
    {
     "name": "stdout",
     "output_type": "stream",
     "text": [
      "Please enter total count of observed pp genotypes: 13\n",
      "Please enter total count of observed pq genotypes: 80\n",
      "Please enter total count of observed qq genotypes: 30\n"
     ]
    }
   ],
   "source": [
    "pp = int(input('Please enter total count of observed pp genotypes: '))\n",
    "pq = int(input('Please enter total count of observed pq genotypes: '))\n",
    "qq = int(input('Please enter total count of observed qq genotypes: '))\n",
    "n = pp+pq+qq"
   ]
  },
  {
   "cell_type": "code",
   "execution_count": 5,
   "id": "c8c592df",
   "metadata": {},
   "outputs": [
    {
     "name": "stdout",
     "output_type": "stream",
     "text": [
      "Total observed genotypes: 123\n"
     ]
    }
   ],
   "source": [
    "print(f'Total observed genotypes: {n}')"
   ]
  },
  {
   "cell_type": "code",
   "execution_count": 6,
   "id": "f012e53d",
   "metadata": {},
   "outputs": [
    {
     "name": "stdout",
     "output_type": "stream",
     "text": [
      "Frequency of Allele P: 0.4309\n"
     ]
    }
   ],
   "source": [
    "p_freq = ((2*pp)+pq) / (2*n)\n",
    "print(f'Frequency of Allele P: {p_freq:.4f}')"
   ]
  },
  {
   "cell_type": "code",
   "execution_count": 7,
   "id": "d1945d1f",
   "metadata": {},
   "outputs": [
    {
     "name": "stdout",
     "output_type": "stream",
     "text": [
      "Frequency of Allele Q: 0.5691\n"
     ]
    }
   ],
   "source": [
    "q_freq = ((2*qq)+pq) / (2*n)\n",
    "print(f'Frequency of Allele Q: {q_freq:.4f}')"
   ]
  },
  {
   "cell_type": "code",
   "execution_count": 8,
   "id": "6af97c86",
   "metadata": {},
   "outputs": [
    {
     "data": {
      "text/plain": [
       "1.0"
      ]
     },
     "execution_count": 8,
     "metadata": {},
     "output_type": "execute_result"
    }
   ],
   "source": [
    "p_freq + q_freq"
   ]
  },
  {
   "cell_type": "markdown",
   "id": "25e2f7d1",
   "metadata": {},
   "source": [
    "## To summarize:"
   ]
  },
  {
   "cell_type": "code",
   "execution_count": 9,
   "id": "9cceb510",
   "metadata": {},
   "outputs": [
    {
     "name": "stdout",
     "output_type": "stream",
     "text": [
      "Frequency of Allele P: 0.4309\n",
      "Frequency of Allele Q: 0.5691\n",
      "Total: 1.0\n"
     ]
    }
   ],
   "source": [
    "print(f'Frequency of Allele P: {p_freq:.4f}')\n",
    "print(f'Frequency of Allele Q: {q_freq:.4f}')\n",
    "print(f'Total: {(p_freq + q_freq):.1f}')"
   ]
  },
  {
   "cell_type": "code",
   "execution_count": null,
   "id": "b2e823f8",
   "metadata": {},
   "outputs": [],
   "source": []
  },
  {
   "cell_type": "markdown",
   "id": "e374d233",
   "metadata": {},
   "source": [
    "## Exercise 3: \n",
    "### Write a script that takes the RNA string GGCCCGAUGGGAGGAGGGCCCUUGGGAUGAUUUGACCGA and:\n",
    "    - Returns the position where the START and STOP codons begin AUG (start) and UGA/UAG/UAA (stop)\n",
    "    - Extracts the Open Reading Frame (ORF)/ Exon of the RNA Sequence"
   ]
  },
  {
   "cell_type": "markdown",
   "id": "6b35a30b",
   "metadata": {},
   "source": [
    "#### Begin with a representative sample:"
   ]
  },
  {
   "cell_type": "code",
   "execution_count": 41,
   "id": "5d37e46e",
   "metadata": {},
   "outputs": [],
   "source": [
    "rna = 'GGCCCGAUGGGAGGAGGGCCCUUGGGAUGAUUUGACCGA'"
   ]
  },
  {
   "cell_type": "markdown",
   "id": "75b97853",
   "metadata": {},
   "source": [
    "#### In the instructional video, Passarini \"brute forces\" the code and specifies the 'AUG' and 'UGA' codons because we can clearly see the 'AUG' start codon and the 'UGA' terminate codon at index 27."
   ]
  },
  {
   "cell_type": "code",
   "execution_count": 89,
   "id": "0890eaa4",
   "metadata": {},
   "outputs": [
    {
     "name": "stdout",
     "output_type": "stream",
     "text": [
      "The positions of the start and termination codons are 6 and 27, respectively\n"
     ]
    }
   ],
   "source": [
    "start = rna.find('AUG')\n",
    "termination = rna.find('UGA')\n",
    "\n",
    "print(f'The positions of the start and termination codons are {start} and {termination}, respectively')"
   ]
  },
  {
   "cell_type": "markdown",
   "id": "0e4198c6",
   "metadata": {},
   "source": [
    "#### The Open Reading Frame can easily be extracted when we have the start and terminate indeces."
   ]
  },
  {
   "cell_type": "code",
   "execution_count": 90,
   "id": "da16e6f7",
   "metadata": {},
   "outputs": [],
   "source": [
    "orf = rna[start:termination+3]"
   ]
  },
  {
   "cell_type": "code",
   "execution_count": 91,
   "id": "cd897213",
   "metadata": {},
   "outputs": [
    {
     "name": "stdout",
     "output_type": "stream",
     "text": [
      "ORF: AUGGGAGGAGGGCCCUUGGGAUGA\n"
     ]
    }
   ],
   "source": [
    "print(f'ORF: {orf}')"
   ]
  },
  {
   "cell_type": "markdown",
   "id": "0e7ab5c7",
   "metadata": {},
   "source": [
    "### This approach seems to work with a very small codon string...\n",
    "\n",
    "- How do we let the computer do the work when we have a very large codon input and it is not possible to \"clearly see\" the termination codons?\n",
    "- Given the three possible termination codons of \"UGA\", \"UAG\", and \"UAA\", we need a more sophisticated approach.\n",
    "- Given the likelihood that we will be dealing with a significantly larger string of codons, we need a better method."
   ]
  },
  {
   "cell_type": "markdown",
   "id": "e9ff83aa",
   "metadata": {},
   "source": [
    "### Let's do this programmatically so that we can apply this method to a much larger string of codons"
   ]
  },
  {
   "cell_type": "code",
   "execution_count": 42,
   "id": "3684f67b",
   "metadata": {},
   "outputs": [],
   "source": [
    "exon_start_list = [x.start() for x in re.finditer('AUG',rna)]"
   ]
  },
  {
   "cell_type": "markdown",
   "id": "5a47b454",
   "metadata": {},
   "source": [
    "#### Here, we generate a list of indices where 'AUG' is found:  index 6, and index 26 (the first index is 0)"
   ]
  },
  {
   "cell_type": "code",
   "execution_count": 43,
   "id": "293b03ff",
   "metadata": {},
   "outputs": [
    {
     "data": {
      "text/plain": [
       "[6, 26]"
      ]
     },
     "execution_count": 43,
     "metadata": {},
     "output_type": "execute_result"
    }
   ],
   "source": [
    "exon_start_list"
   ]
  },
  {
   "cell_type": "markdown",
   "id": "b66cc407",
   "metadata": {},
   "source": [
    "#### Upon closer inspection, we have a few issues:\n",
    "- The 'AUG' at index 26 does not have a corresponding termination codon.\n",
    "- The 'UGA' at index 27 IS the termination of the ORF which begins at index 6, but because it is preceeded by 'A', it is being recognized as 'AUG' at index 26.\n",
    "- This instance cannot be both a start and terminate codon.\n",
    "\n",
    "#### Let's refine our definition of a start start to include the fact that it begins at an index which is a MULTIPLE of 3:"
   ]
  },
  {
   "cell_type": "code",
   "execution_count": 54,
   "id": "c2112bc0",
   "metadata": {},
   "outputs": [],
   "source": [
    "exon_start_list = [x.start() for x in re.finditer('AUG',rna) if (x.start() % 3) == 0]"
   ]
  },
  {
   "cell_type": "code",
   "execution_count": 45,
   "id": "f05b9fb2",
   "metadata": {},
   "outputs": [
    {
     "data": {
      "text/plain": [
       "[6]"
      ]
     },
     "execution_count": 45,
     "metadata": {},
     "output_type": "execute_result"
    }
   ],
   "source": [
    "exon_start_list"
   ]
  },
  {
   "cell_type": "markdown",
   "id": "723fc702",
   "metadata": {},
   "source": [
    "#### Now, it is correctly identifying those start codons which are not simply 'AUG', but those that have some positional requirements.\n",
    "#### We can now define a function called 'find_stop', which will identify the termination codon positions."
   ]
  },
  {
   "cell_type": "code",
   "execution_count": 46,
   "id": "82b04a11",
   "metadata": {},
   "outputs": [],
   "source": [
    "def find_stop(exon_start_list):\n",
    "    '''\n",
    "    Accepts a list of start codon position indeces and outputs a list of corresponding termination\n",
    "    codon position indeces.\n",
    "    '''\n",
    "    stop_list = []\n",
    "    for i in (exon_start_list):\n",
    "        if rna.find('UGA',i):\n",
    "            pos = rna.find('UGA',i)\n",
    "        elif rna.find('UAG',i):\n",
    "            pos = rna.find('UAG',i)\n",
    "        elif rna.find('UAA',i):\n",
    "            pos = rna.find('UAA',i)\n",
    "        else:\n",
    "            pos =  0\n",
    "        stop_list.append(pos)\n",
    "    return stop_list"
   ]
  },
  {
   "cell_type": "markdown",
   "id": "ed975d49",
   "metadata": {},
   "source": [
    "#### Properly, the terminate codon that correlates with the identified start codon at index 6 can be found at index 27."
   ]
  },
  {
   "cell_type": "code",
   "execution_count": 47,
   "id": "0d9657af",
   "metadata": {},
   "outputs": [
    {
     "data": {
      "text/plain": [
       "[27]"
      ]
     },
     "execution_count": 47,
     "metadata": {},
     "output_type": "execute_result"
    }
   ],
   "source": [
    "find_stop(exon_start_list)"
   ]
  },
  {
   "cell_type": "markdown",
   "id": "867074d6",
   "metadata": {},
   "source": [
    "## Now test it for real on a larger codon string:"
   ]
  },
  {
   "cell_type": "code",
   "execution_count": 51,
   "id": "844b3210",
   "metadata": {},
   "outputs": [],
   "source": [
    "rna = 'GGCCCGAUGGGAGGAGGGCCCUUGGGAUGAUUUGACCGAGGCCCGAUGGGAGGAGGGCCCUUGGGAUGAUUUGACCGAGGCCCGAUGGGAGGAGGGCCCUUGGGAUGAUUUGACCGAGGCCCGAUGGGAGGAGGGCCCUUGGGAUGAUUUGACCGAGGCCCGAUGGGAGGAGGGCCCUUGGGAUGAUUUGACCGAGGCCCGAUGGGAGGAGGGCCCUUGGGAUGAUUUGACCGA'"
   ]
  },
  {
   "cell_type": "code",
   "execution_count": 52,
   "id": "44ed305e",
   "metadata": {},
   "outputs": [
    {
     "data": {
      "text/plain": [
       "'GGCCCGAUGGGAGGAGGGCCCUUGGGAUGAUUUGACCGAGGCCCGAUGGGAGGAGGGCCCUUGGGAUGAUUUGACCGAGGCCCGAUGGGAGGAGGGCCCUUGGGAUGAUUUGACCGAGGCCCGAUGGGAGGAGGGCCCUUGGGAUGAUUUGACCGAGGCCCGAUGGGAGGAGGGCCCUUGGGAUGAUUUGACCGAGGCCCGAUGGGAGGAGGGCCCUUGGGAUGAUUUGACCGA'"
      ]
     },
     "execution_count": 52,
     "metadata": {},
     "output_type": "execute_result"
    }
   ],
   "source": [
    "rna"
   ]
  },
  {
   "cell_type": "markdown",
   "id": "f859fb13",
   "metadata": {},
   "source": [
    "### Just by copying the same codon string 6 times, we now have a list of 6 indices where 'AUG' can be found:"
   ]
  },
  {
   "cell_type": "code",
   "execution_count": 55,
   "id": "fd42640e",
   "metadata": {},
   "outputs": [
    {
     "data": {
      "text/plain": [
       "[6, 45, 84, 123, 162, 201]"
      ]
     },
     "execution_count": 55,
     "metadata": {},
     "output_type": "execute_result"
    }
   ],
   "source": [
    "exon_start_list"
   ]
  },
  {
   "cell_type": "markdown",
   "id": "796ba239",
   "metadata": {},
   "source": [
    "### and 6 indices where 'UGA',' UAG', or 'UAA' can be found:"
   ]
  },
  {
   "cell_type": "code",
   "execution_count": 63,
   "id": "fabac323",
   "metadata": {},
   "outputs": [],
   "source": [
    "exon_term_list = find_stop(exon_start_list)"
   ]
  },
  {
   "cell_type": "code",
   "execution_count": 64,
   "id": "18698aaa",
   "metadata": {},
   "outputs": [
    {
     "data": {
      "text/plain": [
       "[27, 66, 105, 144, 183, 222]"
      ]
     },
     "execution_count": 64,
     "metadata": {},
     "output_type": "execute_result"
    }
   ],
   "source": [
    "exon_term_list"
   ]
  },
  {
   "cell_type": "markdown",
   "id": "99a8d5fa",
   "metadata": {},
   "source": [
    "### Let us extract each of the ORF's"
   ]
  },
  {
   "cell_type": "code",
   "execution_count": 76,
   "id": "4f8e2887",
   "metadata": {},
   "outputs": [],
   "source": [
    "orfs = []\n",
    "for (i,j) in zip(exon_start_list,exon_term_list):\n",
    "    orf = rna[i:j]\n",
    "    orfs.append(orf)"
   ]
  },
  {
   "cell_type": "code",
   "execution_count": 77,
   "id": "4a7e832b",
   "metadata": {},
   "outputs": [
    {
     "data": {
      "text/plain": [
       "['AUGGGAGGAGGGCCCUUGGGA',\n",
       " 'AUGGGAGGAGGGCCCUUGGGA',\n",
       " 'AUGGGAGGAGGGCCCUUGGGA',\n",
       " 'AUGGGAGGAGGGCCCUUGGGA',\n",
       " 'AUGGGAGGAGGGCCCUUGGGA',\n",
       " 'AUGGGAGGAGGGCCCUUGGGA']"
      ]
     },
     "execution_count": 77,
     "metadata": {},
     "output_type": "execute_result"
    }
   ],
   "source": [
    "orfs"
   ]
  },
  {
   "cell_type": "code",
   "execution_count": null,
   "id": "ed48eed9",
   "metadata": {},
   "outputs": [],
   "source": []
  },
  {
   "cell_type": "code",
   "execution_count": null,
   "id": "96215b3d",
   "metadata": {},
   "outputs": [],
   "source": []
  },
  {
   "cell_type": "code",
   "execution_count": null,
   "id": "02aa65de",
   "metadata": {},
   "outputs": [],
   "source": []
  },
  {
   "cell_type": "code",
   "execution_count": null,
   "id": "8347527a",
   "metadata": {},
   "outputs": [],
   "source": []
  },
  {
   "cell_type": "markdown",
   "id": "d2cf3934",
   "metadata": {},
   "source": [
    "## Exercise 4: \n",
    "### Given a DNA sequence in lowercase letters:\n",
    "    - Convert to UPPERCASE\n",
    "    - Slice the string from the 5th character to the 10th\n",
    "    - Transcription: convert the DNA string into an RNA character string"
   ]
  },
  {
   "cell_type": "code",
   "execution_count": null,
   "id": "8bbea04a",
   "metadata": {},
   "outputs": [],
   "source": []
  },
  {
   "cell_type": "code",
   "execution_count": null,
   "id": "22915a6f",
   "metadata": {},
   "outputs": [],
   "source": []
  },
  {
   "cell_type": "code",
   "execution_count": null,
   "id": "3cc65315",
   "metadata": {},
   "outputs": [],
   "source": []
  }
 ],
 "metadata": {
  "kernelspec": {
   "display_name": "Python 3 (ipykernel)",
   "language": "python",
   "name": "python3"
  },
  "language_info": {
   "codemirror_mode": {
    "name": "ipython",
    "version": 3
   },
   "file_extension": ".py",
   "mimetype": "text/x-python",
   "name": "python",
   "nbconvert_exporter": "python",
   "pygments_lexer": "ipython3",
   "version": "3.9.13"
  }
 },
 "nbformat": 4,
 "nbformat_minor": 5
}
